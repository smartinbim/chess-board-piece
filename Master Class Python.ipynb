{
 "cells": [
  {
   "cell_type": "code",
   "execution_count": 1,
   "id": "4644e0ef",
   "metadata": {},
   "outputs": [
    {
     "name": "stdout",
     "output_type": "stream",
     "text": [
      "whats your age20\n",
      "20\n"
     ]
    }
   ],
   "source": [
    "age =input(\"whats your age\")\n",
    "print(age)"
   ]
  },
  {
   "cell_type": "code",
   "execution_count": 3,
   "id": "283236c8",
   "metadata": {},
   "outputs": [
    {
     "name": "stdout",
     "output_type": "stream",
     "text": [
      "My age is 20\n"
     ]
    }
   ],
   "source": [
    "print(\"My age is \" + age)"
   ]
  },
  {
   "cell_type": "code",
   "execution_count": 5,
   "id": "96a8576e",
   "metadata": {},
   "outputs": [
    {
     "name": "stdout",
     "output_type": "stream",
     "text": [
      "What is your nameraj\n",
      "What is your age25\n",
      "What do want to eatpizza\n",
      "What do want to drinkcola\n",
      " hello,my name is raj my age is 25 i want to eat pizza i want to drink cola\n"
     ]
    }
   ],
   "source": [
    "Name = input(\"What is your name\")\n",
    "Age = input(\"What is your age\")\n",
    "Food = input(\"What do want to eat\")\n",
    "Drink = input(\"What do want to drink\")\n",
    "\n",
    "print(\" hello,my name is \" + Name + \" my age is \" + Age + \" i want to eat \" + Food + \" i want to drink \" + Drink )"
   ]
  },
  {
   "cell_type": "code",
   "execution_count": 6,
   "id": "8f52db37",
   "metadata": {
    "scrolled": true
   },
   "outputs": [
    {
     "ename": "NameError",
     "evalue": "name 'rice_product_1' is not defined",
     "output_type": "error",
     "traceback": [
      "\u001b[1;31m---------------------------------------------------------------------------\u001b[0m",
      "\u001b[1;31mNameError\u001b[0m                                 Traceback (most recent call last)",
      "\u001b[1;32m<ipython-input-6-680aaa3fb8e4>\u001b[0m in \u001b[0;36m<module>\u001b[1;34m\u001b[0m\n\u001b[1;32m----> 1\u001b[1;33m \u001b[0mrice_product_1\u001b[0m\u001b[1;33m\u001b[0m\u001b[1;33m\u001b[0m\u001b[0m\n\u001b[0m\u001b[0;32m      2\u001b[0m \u001b[0mQuantity_product_1\u001b[0m\u001b[1;33m\u001b[0m\u001b[1;33m\u001b[0m\u001b[0m\n",
      "\u001b[1;31mNameError\u001b[0m: name 'rice_product_1' is not defined"
     ]
    }
   ],
   "source": [
    "rice_product_1\n",
    "Quantity_product_1"
   ]
  },
  {
   "cell_type": "code",
   "execution_count": null,
   "id": "c7debb98",
   "metadata": {},
   "outputs": [],
   "source": [
    "Price_product_1 = input(\"What is the price of product 1:\")\n",
    "Quantity_product_1 = input(\"What will be the quatity of the product 1:\")\n",
    "Price_product_2 = input(\"What is the price of product 2:\")\n",
    "Quantity_product_2 = input(\"What will be the quatity of the product 2:\")\n",
    "Price_product_3 = input(\"What is the price of product 3:\")\n",
    "Quantity_product_3 = input(\"What will be the quatity of the product 3:\")\n",
    "\n",
    "Result_product_1 = float(Price_product_1 * Quantity_product_1)\n",
    "Result_product_2 = float(Price_product_2 * Quantity_product_2)\n",
    "Result_product_3 = float(Price_product_3 * Quantity_product_3)\n"
   ]
  },
  {
   "cell_type": "code",
   "execution_count": 4,
   "id": "77b401f9",
   "metadata": {},
   "outputs": [
    {
     "data": {
      "text/plain": [
       "18"
      ]
     },
     "execution_count": 4,
     "metadata": {},
     "output_type": "execute_result"
    }
   ],
   "source": [
    "def add_num(num1,num2):\n",
    "    return num1+num2\n",
    "add_num (8,10)"
   ]
  },
  {
   "cell_type": "code",
   "execution_count": 5,
   "id": "92003cb7",
   "metadata": {},
   "outputs": [
    {
     "data": {
      "text/plain": [
       "176"
      ]
     },
     "execution_count": 5,
     "metadata": {},
     "output_type": "execute_result"
    }
   ],
   "source": [
    "add_num(78,98)"
   ]
  },
  {
   "cell_type": "code",
   "execution_count": 7,
   "id": "44f30189",
   "metadata": {},
   "outputs": [
    {
     "name": "stdout",
     "output_type": "stream",
     "text": [
      "98\n"
     ]
    }
   ],
   "source": [
    "result = add_num(11,87)\n",
    "print(result)"
   ]
  },
  {
   "cell_type": "code",
   "execution_count": 9,
   "id": "7d9806af",
   "metadata": {},
   "outputs": [
    {
     "name": "stdout",
     "output_type": "stream",
     "text": [
      "145\n"
     ]
    }
   ],
   "source": [
    "def print_result(a,b):\n",
    "    print(a+b)\n",
    "def return_result(a,b):\n",
    "    return a+b\n",
    "print_result (58,87)"
   ]
  },
  {
   "cell_type": "code",
   "execution_count": 10,
   "id": "799a3504",
   "metadata": {},
   "outputs": [
    {
     "data": {
      "text/plain": [
       "156"
      ]
     },
     "execution_count": 10,
     "metadata": {},
     "output_type": "execute_result"
    }
   ],
   "source": [
    "return_result (58,98)"
   ]
  },
  {
   "cell_type": "code",
   "execution_count": 11,
   "id": "60492e90",
   "metadata": {},
   "outputs": [
    {
     "name": "stdout",
     "output_type": "stream",
     "text": [
      "145\n",
      "None\n",
      "156\n"
     ]
    }
   ],
   "source": [
    "my_result = print_result(58,87)\n",
    "print(my_result)\n",
    "my_result1 = return_result(58,98)\n",
    "print(my_result1)"
   ]
  },
  {
   "cell_type": "code",
   "execution_count": 13,
   "id": "97426760",
   "metadata": {},
   "outputs": [
    {
     "data": {
      "text/plain": [
       "NoneType"
      ]
     },
     "execution_count": 13,
     "metadata": {},
     "output_type": "execute_result"
    }
   ],
   "source": [
    "type(my_result)"
   ]
  },
  {
   "cell_type": "code",
   "execution_count": 14,
   "id": "c5388d4d",
   "metadata": {},
   "outputs": [
    {
     "data": {
      "text/plain": [
       "int"
      ]
     },
     "execution_count": 14,
     "metadata": {},
     "output_type": "execute_result"
    }
   ],
   "source": [
    "type(my_result1)"
   ]
  },
  {
   "cell_type": "code",
   "execution_count": 15,
   "id": "6faee2cc",
   "metadata": {},
   "outputs": [
    {
     "data": {
      "text/plain": [
       "True"
      ]
     },
     "execution_count": 15,
     "metadata": {},
     "output_type": "execute_result"
    }
   ],
   "source": [
    "2%2 == 0"
   ]
  },
  {
   "cell_type": "code",
   "execution_count": 16,
   "id": "47e4d593",
   "metadata": {},
   "outputs": [
    {
     "data": {
      "text/plain": [
       "0"
      ]
     },
     "execution_count": 16,
     "metadata": {},
     "output_type": "execute_result"
    }
   ],
   "source": [
    "2%2"
   ]
  },
  {
   "cell_type": "code",
   "execution_count": 17,
   "id": "42458385",
   "metadata": {},
   "outputs": [
    {
     "data": {
      "text/plain": [
       "0"
      ]
     },
     "execution_count": 17,
     "metadata": {},
     "output_type": "execute_result"
    }
   ],
   "source": [
    "20%2"
   ]
  },
  {
   "cell_type": "code",
   "execution_count": 18,
   "id": "1b0e7248",
   "metadata": {},
   "outputs": [
    {
     "data": {
      "text/plain": [
       "1"
      ]
     },
     "execution_count": 18,
     "metadata": {},
     "output_type": "execute_result"
    }
   ],
   "source": [
    "21%2"
   ]
  },
  {
   "cell_type": "code",
   "execution_count": 19,
   "id": "c8e5a83b",
   "metadata": {},
   "outputs": [
    {
     "data": {
      "text/plain": [
       "0"
      ]
     },
     "execution_count": 19,
     "metadata": {},
     "output_type": "execute_result"
    }
   ],
   "source": [
    "33%3"
   ]
  },
  {
   "cell_type": "code",
   "execution_count": 20,
   "id": "06cb8e95",
   "metadata": {},
   "outputs": [
    {
     "data": {
      "text/plain": [
       "11.0"
      ]
     },
     "execution_count": 20,
     "metadata": {},
     "output_type": "execute_result"
    }
   ],
   "source": [
    "33/3"
   ]
  },
  {
   "cell_type": "code",
   "execution_count": 21,
   "id": "76f52b1d",
   "metadata": {},
   "outputs": [
    {
     "data": {
      "text/plain": [
       "True"
      ]
     },
     "execution_count": 21,
     "metadata": {},
     "output_type": "execute_result"
    }
   ],
   "source": [
    "20%2 ==0"
   ]
  },
  {
   "cell_type": "code",
   "execution_count": 22,
   "id": "31059e07",
   "metadata": {},
   "outputs": [
    {
     "data": {
      "text/plain": [
       "False"
      ]
     },
     "execution_count": 22,
     "metadata": {},
     "output_type": "execute_result"
    }
   ],
   "source": [
    "21%2 ==0"
   ]
  },
  {
   "cell_type": "code",
   "execution_count": 23,
   "id": "15f251c7",
   "metadata": {},
   "outputs": [
    {
     "data": {
      "text/plain": [
       "True"
      ]
     },
     "execution_count": 23,
     "metadata": {},
     "output_type": "execute_result"
    }
   ],
   "source": [
    "def even_check(number):\n",
    "    return number %2 == 0\n",
    "even_check(58)"
   ]
  },
  {
   "cell_type": "code",
   "execution_count": null,
   "id": "1cc156f0",
   "metadata": {},
   "outputs": [],
   "source": []
  }
 ],
 "metadata": {
  "kernelspec": {
   "display_name": "Python 3",
   "language": "python",
   "name": "python3"
  },
  "language_info": {
   "codemirror_mode": {
    "name": "ipython",
    "version": 3
   },
   "file_extension": ".py",
   "mimetype": "text/x-python",
   "name": "python",
   "nbconvert_exporter": "python",
   "pygments_lexer": "ipython3",
   "version": "3.8.8"
  }
 },
 "nbformat": 4,
 "nbformat_minor": 5
}
