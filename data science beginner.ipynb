{
 "cells": [
  {
   "cell_type": "code",
   "execution_count": 2,
   "id": "d67f5ad3",
   "metadata": {},
   "outputs": [
    {
     "name": "stdout",
     "output_type": "stream",
     "text": [
      "[5, 11, 12]\n"
     ]
    }
   ],
   "source": [
    "LIST_EXA = [ 0,1,2,3,4,10,5,6,7,8,9,10,10]\n",
    "indices = [i for i, x in enumerate(LIST_EXA) if x == 10]\n",
    "print(indices)"
   ]
  },
  {
   "cell_type": "code",
   "execution_count": null,
   "id": "1128a493",
   "metadata": {
    "scrolled": true
   },
   "outputs": [
    {
     "name": "stdout",
     "output_type": "stream",
     "text": [
      "Enter the first number\n"
     ]
    }
   ],
   "source": [
    "print(\"Enter the first number\")\n",
    "first_number = float(input())\n",
    "print(\"Enter the second number\")\n",
    "second_number = float(input())\n",
    "results = []\n",
    "sum1 = first_number + second_number\n",
    "sub = first_number - second_number\n",
    "results.append(sum1)\n",
    "results.append(sub)\n",
    "print(\"SUM =\", results[0])\n",
    "print(\"SUB =\", results[1])"
   ]
  },
  {
   "cell_type": "code",
   "execution_count": null,
   "id": "5407bb02",
   "metadata": {
    "scrolled": true
   },
   "outputs": [],
   "source": [
    "print(\"Enter the first number\")\n",
    "first_number = float(input())\n",
    "print(\"Enter the second number\")\n",
    "second_number = float(input())\n",
    "results = []\n",
    "results.append(first_number + second_number)\n",
    "results.append(first_number - second_number)\n",
    "\n",
    "print(\"SUM =\", results[0])\n",
    "print(\"SUB =\", results[1])"
   ]
  },
  {
   "cell_type": "code",
   "execution_count": null,
   "id": "9c6d0ba9",
   "metadata": {},
   "outputs": [],
   "source": [
    "def add_sub():\n",
    "    print(\"Enter the first number\")\n",
    "    first_number = float(input())\n",
    "    print(\"Enter the second number\")\n",
    "    second_number = float(input())\n",
    "    add_results = first_number + second_number\n",
    "    sub_results = first_number - second_number\n",
    "    \n",
    "    return[add_results,sub_results]\n",
    "\n",
    "for i in range(10):\n",
    "    results.append(add_sub())\n",
    "    print(results)"
   ]
  },
  {
   "cell_type": "code",
   "execution_count": null,
   "id": "6f57bc93",
   "metadata": {},
   "outputs": [],
   "source": [
    "type(results)"
   ]
  },
  {
   "cell_type": "code",
   "execution_count": null,
   "id": "37ab46a8",
   "metadata": {},
   "outputs": [],
   "source": [
    "type(results[1])"
   ]
  },
  {
   "cell_type": "code",
   "execution_count": null,
   "id": "481b8edb",
   "metadata": {},
   "outputs": [],
   "source": [
    "type(results[2])"
   ]
  },
  {
   "cell_type": "code",
   "execution_count": null,
   "id": "5b569dcf",
   "metadata": {},
   "outputs": [],
   "source": [
    "print(results[2])"
   ]
  },
  {
   "cell_type": "code",
   "execution_count": null,
   "id": "5e4e5616",
   "metadata": {},
   "outputs": [],
   "source": [
    "print(results[2][0])"
   ]
  },
  {
   "cell_type": "code",
   "execution_count": null,
   "id": "3bf70725",
   "metadata": {},
   "outputs": [],
   "source": [
    "print(results[2][1])"
   ]
  },
  {
   "cell_type": "code",
   "execution_count": null,
   "id": "167a7222",
   "metadata": {},
   "outputs": [],
   "source": [
    "print(results[7][1])"
   ]
  },
  {
   "cell_type": "code",
   "execution_count": null,
   "id": "aa2e6edd",
   "metadata": {},
   "outputs": [],
   "source": [
    "for i, val in enumerate(results):\n",
    "    print(i,\"\",val)"
   ]
  },
  {
   "cell_type": "code",
   "execution_count": null,
   "id": "7a6a2eef",
   "metadata": {},
   "outputs": [],
   "source": [
    "for i, val in enumerate(results):\n",
    "    print(i,\"\",val)"
   ]
  },
  {
   "cell_type": "code",
   "execution_count": 2,
   "id": "b01c3ab3",
   "metadata": {},
   "outputs": [
    {
     "data": {
      "text/plain": [
       "'chennai'"
      ]
     },
     "execution_count": 2,
     "metadata": {},
     "output_type": "execute_result"
    }
   ],
   "source": [
    "capitals = {'Tamilnadu': 'chennai','Kerala' :'Thiruvananthapuram','Karnataka' : 'Bangalore'}\n",
    "capitals['Tamilnadu']"
   ]
  },
  {
   "cell_type": "code",
   "execution_count": 3,
   "id": "abbc57d0",
   "metadata": {},
   "outputs": [
    {
     "data": {
      "text/plain": [
       "'Thiruvananthapuram'"
      ]
     },
     "execution_count": 3,
     "metadata": {},
     "output_type": "execute_result"
    }
   ],
   "source": [
    "capitals['Kerala']"
   ]
  },
  {
   "cell_type": "code",
   "execution_count": 4,
   "id": "d662b9a3",
   "metadata": {},
   "outputs": [
    {
     "ename": "KeyError",
     "evalue": "'Goa'",
     "output_type": "error",
     "traceback": [
      "\u001b[1;31m---------------------------------------------------------------------------\u001b[0m",
      "\u001b[1;31mKeyError\u001b[0m                                  Traceback (most recent call last)",
      "\u001b[1;32m<ipython-input-4-9abedc1b6d46>\u001b[0m in \u001b[0;36m<module>\u001b[1;34m\u001b[0m\n\u001b[1;32m----> 1\u001b[1;33m \u001b[0mcapitals\u001b[0m\u001b[1;33m[\u001b[0m\u001b[1;34m'Goa'\u001b[0m\u001b[1;33m]\u001b[0m\u001b[1;33m\u001b[0m\u001b[1;33m\u001b[0m\u001b[0m\n\u001b[0m",
      "\u001b[1;31mKeyError\u001b[0m: 'Goa'"
     ]
    }
   ],
   "source": [
    "capitals['Goa']"
   ]
  },
  {
   "cell_type": "code",
   "execution_count": 5,
   "id": "2e1ef90d",
   "metadata": {},
   "outputs": [
    {
     "data": {
      "text/plain": [
       "False"
      ]
     },
     "execution_count": 5,
     "metadata": {},
     "output_type": "execute_result"
    }
   ],
   "source": [
    "'Goa' in capitals"
   ]
  },
  {
   "cell_type": "code",
   "execution_count": 6,
   "id": "7347c604",
   "metadata": {},
   "outputs": [
    {
     "data": {
      "text/plain": [
       "True"
      ]
     },
     "execution_count": 6,
     "metadata": {},
     "output_type": "execute_result"
    }
   ],
   "source": [
    "'Tamilnadu' in capitals"
   ]
  },
  {
   "cell_type": "code",
   "execution_count": 7,
   "id": "28498149",
   "metadata": {
    "scrolled": false
   },
   "outputs": [
    {
     "data": {
      "text/plain": [
       "{'Goa': 'Panaji', 'Gujarat': 'Gandhi Nagar'}"
      ]
     },
     "execution_count": 7,
     "metadata": {},
     "output_type": "execute_result"
    }
   ],
   "source": [
    "morecapitals = {'Goa' : 'Panaji','Gujarat' :'Gandhi Nagar'}\n",
    "morecapitals"
   ]
  },
  {
   "cell_type": "code",
   "execution_count": 8,
   "id": "879ff38a",
   "metadata": {},
   "outputs": [],
   "source": [
    "capitals.update(morecapitals)"
   ]
  },
  {
   "cell_type": "code",
   "execution_count": 9,
   "id": "ff9ec05d",
   "metadata": {},
   "outputs": [
    {
     "data": {
      "text/plain": [
       "{'Tamilnadu': 'chennai',\n",
       " 'Kerala': 'Thiruvananthapuram',\n",
       " 'Karnataka': 'Bangalore',\n",
       " 'Goa': 'Panaji',\n",
       " 'Gujarat': 'Gandhi Nagar'}"
      ]
     },
     "execution_count": 9,
     "metadata": {},
     "output_type": "execute_result"
    }
   ],
   "source": [
    "capitals"
   ]
  },
  {
   "cell_type": "code",
   "execution_count": 10,
   "id": "44dff26c",
   "metadata": {},
   "outputs": [],
   "source": [
    "del capitals['Goa']"
   ]
  },
  {
   "cell_type": "code",
   "execution_count": 11,
   "id": "a29060e5",
   "metadata": {},
   "outputs": [
    {
     "data": {
      "text/plain": [
       "{'Tamilnadu': 'chennai',\n",
       " 'Kerala': 'Thiruvananthapuram',\n",
       " 'Karnataka': 'Bangalore',\n",
       " 'Gujarat': 'Gandhi Nagar'}"
      ]
     },
     "execution_count": 11,
     "metadata": {},
     "output_type": "execute_result"
    }
   ],
   "source": [
    "capitals"
   ]
  },
  {
   "cell_type": "code",
   "execution_count": 1,
   "id": "72525aad",
   "metadata": {},
   "outputs": [
    {
     "ename": "NameError",
     "evalue": "name 'capitals' is not defined",
     "output_type": "error",
     "traceback": [
      "\u001b[1;31m---------------------------------------------------------------------------\u001b[0m",
      "\u001b[1;31mNameError\u001b[0m                                 Traceback (most recent call last)",
      "\u001b[1;32m<ipython-input-1-d8f0b26a8a94>\u001b[0m in \u001b[0;36m<module>\u001b[1;34m\u001b[0m\n\u001b[1;32m----> 1\u001b[1;33m \u001b[1;32mfor\u001b[0m \u001b[0mkey\u001b[0m \u001b[1;32min\u001b[0m \u001b[0mcapitals\u001b[0m\u001b[1;33m:\u001b[0m\u001b[1;33m\u001b[0m\u001b[1;33m\u001b[0m\u001b[0m\n\u001b[0m\u001b[0;32m      2\u001b[0m     \u001b[0mprint\u001b[0m\u001b[1;33m(\u001b[0m\u001b[0mkey\u001b[0m\u001b[1;33m,\u001b[0m\u001b[0mcapitals\u001b[0m\u001b[1;33m[\u001b[0m\u001b[0mkey\u001b[0m\u001b[1;33m]\u001b[0m\u001b[1;33m)\u001b[0m\u001b[1;33m\u001b[0m\u001b[1;33m\u001b[0m\u001b[0m\n",
      "\u001b[1;31mNameError\u001b[0m: name 'capitals' is not defined"
     ]
    }
   ],
   "source": [
    "for key in capitals:\n",
    "    print(key,capitals[key])"
   ]
  },
  {
   "cell_type": "code",
   "execution_count": 2,
   "id": "ec02c5c9",
   "metadata": {},
   "outputs": [
    {
     "data": {
      "text/plain": [
       "[0,\n",
       " 1,\n",
       " 8,\n",
       " 27,\n",
       " 64,\n",
       " 125,\n",
       " 216,\n",
       " 343,\n",
       " 512,\n",
       " 729,\n",
       " 1000,\n",
       " 1331,\n",
       " 1728,\n",
       " 2197,\n",
       " 2744,\n",
       " 3375,\n",
       " 4096,\n",
       " 4913,\n",
       " 5832,\n",
       " 6859,\n",
       " 8000,\n",
       " 9261,\n",
       " 10648,\n",
       " 12167,\n",
       " 13824,\n",
       " 15625,\n",
       " 17576,\n",
       " 19683,\n",
       " 21952,\n",
       " 24389]"
      ]
     },
     "execution_count": 2,
     "metadata": {},
     "output_type": "execute_result"
    }
   ],
   "source": [
    "cubes =[]\n",
    "for i in range(30):\n",
    "    cubes.append(i**3)\n",
    "cubes"
   ]
  },
  {
   "cell_type": "code",
   "execution_count": 3,
   "id": "1fe975f3",
   "metadata": {},
   "outputs": [
    {
     "data": {
      "text/plain": [
       "{0: 0,\n",
       " 1: 1,\n",
       " 2: 16,\n",
       " 3: 81,\n",
       " 4: 256,\n",
       " 5: 625,\n",
       " 6: 1296,\n",
       " 7: 2401,\n",
       " 8: 4096,\n",
       " 9: 6561,\n",
       " 10: 10000,\n",
       " 11: 14641,\n",
       " 12: 20736,\n",
       " 13: 28561,\n",
       " 14: 38416,\n",
       " 15: 50625,\n",
       " 16: 65536,\n",
       " 17: 83521,\n",
       " 18: 104976,\n",
       " 19: 130321,\n",
       " 20: 160000,\n",
       " 21: 194481,\n",
       " 22: 234256,\n",
       " 23: 279841,\n",
       " 24: 331776,\n",
       " 25: 390625,\n",
       " 26: 456976,\n",
       " 27: 531441,\n",
       " 28: 614656,\n",
       " 29: 707281}"
      ]
     },
     "execution_count": 3,
     "metadata": {},
     "output_type": "execute_result"
    }
   ],
   "source": [
    "dict_cubes = {i:i**4 for i in range(30)}\n",
    "dict_cubes"
   ]
  },
  {
   "cell_type": "code",
   "execution_count": 5,
   "id": "5ebaf329",
   "metadata": {},
   "outputs": [
    {
     "data": {
      "text/plain": [
       "10000"
      ]
     },
     "execution_count": 5,
     "metadata": {},
     "output_type": "execute_result"
    }
   ],
   "source": [
    "dict_cubes[10]"
   ]
  },
  {
   "cell_type": "code",
   "execution_count": 5,
   "id": "f5631b01",
   "metadata": {},
   "outputs": [
    {
     "data": {
      "text/plain": [
       "array([1, 2, 3, 4, 5])"
      ]
     },
     "execution_count": 5,
     "metadata": {},
     "output_type": "execute_result"
    }
   ],
   "source": [
    "import numpy as np\n",
    "a=np.array([1,2,3,4,5])\n",
    "a"
   ]
  },
  {
   "cell_type": "code",
   "execution_count": 6,
   "id": "47f60958",
   "metadata": {},
   "outputs": [
    {
     "data": {
      "text/plain": [
       "dtype('int32')"
      ]
     },
     "execution_count": 6,
     "metadata": {},
     "output_type": "execute_result"
    }
   ],
   "source": [
    "a.dtype"
   ]
  },
  {
   "cell_type": "code",
   "execution_count": 8,
   "id": "15eec01e",
   "metadata": {},
   "outputs": [
    {
     "data": {
      "text/plain": [
       "array([1., 2., 3., 4., 5.])"
      ]
     },
     "execution_count": 8,
     "metadata": {},
     "output_type": "execute_result"
    }
   ],
   "source": [
    "a = np.array([1,2,3,4,5],dtype = np.float64)\n",
    "a"
   ]
  },
  {
   "cell_type": "code",
   "execution_count": 9,
   "id": "7deb06a9",
   "metadata": {},
   "outputs": [
    {
     "data": {
      "text/plain": [
       "1"
      ]
     },
     "execution_count": 9,
     "metadata": {},
     "output_type": "execute_result"
    }
   ],
   "source": [
    "a.ndim"
   ]
  },
  {
   "cell_type": "code",
   "execution_count": 10,
   "id": "ad1f9861",
   "metadata": {},
   "outputs": [
    {
     "data": {
      "text/plain": [
       "5"
      ]
     },
     "execution_count": 10,
     "metadata": {},
     "output_type": "execute_result"
    }
   ],
   "source": [
    "a.size"
   ]
  },
  {
   "cell_type": "code",
   "execution_count": 15,
   "id": "fbf4db5b",
   "metadata": {},
   "outputs": [],
   "source": [
    "b = np.array([[1,2,3,4,5],[6,7,8,9,10]],dtype = np.float64)"
   ]
  },
  {
   "cell_type": "code",
   "execution_count": 16,
   "id": "d135c68c",
   "metadata": {},
   "outputs": [
    {
     "data": {
      "text/plain": [
       "array([[ 1.,  2.,  3.,  4.,  5.],\n",
       "       [ 6.,  7.,  8.,  9., 10.]])"
      ]
     },
     "execution_count": 16,
     "metadata": {},
     "output_type": "execute_result"
    }
   ],
   "source": [
    "b"
   ]
  },
  {
   "cell_type": "code",
   "execution_count": 18,
   "id": "5a9f33b9",
   "metadata": {},
   "outputs": [
    {
     "data": {
      "text/plain": [
       "dtype('float64')"
      ]
     },
     "execution_count": 18,
     "metadata": {},
     "output_type": "execute_result"
    }
   ],
   "source": [
    "b.dtype"
   ]
  },
  {
   "cell_type": "code",
   "execution_count": 20,
   "id": "df3a19a2",
   "metadata": {},
   "outputs": [
    {
     "data": {
      "text/plain": [
       "(2, (2, 5), 10)"
      ]
     },
     "execution_count": 20,
     "metadata": {},
     "output_type": "execute_result"
    }
   ],
   "source": [
    "b.ndim,b.shape,b.size"
   ]
  },
  {
   "cell_type": "code",
   "execution_count": 22,
   "id": "bd81f61f",
   "metadata": {},
   "outputs": [
    {
     "data": {
      "text/plain": [
       "array([[0., 0., 0.],\n",
       "       [0., 0., 0.],\n",
       "       [0., 0., 0.]])"
      ]
     },
     "execution_count": 22,
     "metadata": {},
     "output_type": "execute_result"
    }
   ],
   "source": [
    "np.zeros((3,3),'d')"
   ]
  },
  {
   "cell_type": "code",
   "execution_count": 23,
   "id": "6ded62a4",
   "metadata": {},
   "outputs": [
    {
     "data": {
      "text/plain": [
       "array([[4.67296746e-307, 1.69121096e-306, 1.24610994e-306,\n",
       "        1.16822404e-307],\n",
       "       [1.42418987e-306, 1.37961641e-306, 1.60220528e-306,\n",
       "        1.24611266e-306],\n",
       "       [9.34598925e-307, 1.24612081e-306, 1.11260755e-306,\n",
       "        1.60220393e-306],\n",
       "       [1.51320640e-306, 9.34609790e-307, 1.86921279e-306,\n",
       "        1.24610723e-306]])"
      ]
     },
     "execution_count": 23,
     "metadata": {},
     "output_type": "execute_result"
    }
   ],
   "source": [
    "np.empty((4,4),'d')"
   ]
  },
  {
   "cell_type": "code",
   "execution_count": 25,
   "id": "baeb7892",
   "metadata": {},
   "outputs": [
    {
     "data": {
      "text/plain": [
       "array([ 0. ,  2.5,  5. ,  7.5, 10. ])"
      ]
     },
     "execution_count": 25,
     "metadata": {},
     "output_type": "execute_result"
    }
   ],
   "source": [
    "np.linspace(0,10,5)"
   ]
  },
  {
   "cell_type": "code",
   "execution_count": 29,
   "id": "b6690d72",
   "metadata": {},
   "outputs": [
    {
     "data": {
      "text/plain": [
       "array([ 0,  4,  8, 12, 16])"
      ]
     },
     "execution_count": 29,
     "metadata": {},
     "output_type": "execute_result"
    }
   ],
   "source": [
    "np.arange(0,20,4)"
   ]
  },
  {
   "cell_type": "code",
   "execution_count": 28,
   "id": "aad34a5d",
   "metadata": {},
   "outputs": [
    {
     "data": {
      "text/plain": [
       "array([0, 2, 4, 6, 8])"
      ]
     },
     "execution_count": 28,
     "metadata": {},
     "output_type": "execute_result"
    }
   ],
   "source": [
    "np.arange(0,10,2)"
   ]
  },
  {
   "cell_type": "code",
   "execution_count": 30,
   "id": "a90e0359",
   "metadata": {},
   "outputs": [
    {
     "data": {
      "text/plain": [
       "array([[ 0.74345087, -1.75528945, -0.62556806, -1.14545544],\n",
       "       [-0.93698247,  0.11172383, -0.56512475, -1.74267274]])"
      ]
     },
     "execution_count": 30,
     "metadata": {},
     "output_type": "execute_result"
    }
   ],
   "source": [
    "np.random.standard_normal((2,4))"
   ]
  },
  {
   "cell_type": "code",
   "execution_count": 31,
   "id": "02ef89b1",
   "metadata": {},
   "outputs": [
    {
     "data": {
      "text/plain": [
       "array([[ 1.0044282 ,  0.61215684, -0.15724786,  0.37794317],\n",
       "       [ 1.4522995 , -1.07389846, -0.39078496, -1.54708677]])"
      ]
     },
     "execution_count": 31,
     "metadata": {},
     "output_type": "execute_result"
    }
   ],
   "source": [
    "a = np.random.standard_normal((2,4))\n",
    "b = np.random.standard_normal((2,4))\n",
    "a"
   ]
  },
  {
   "cell_type": "code",
   "execution_count": 32,
   "id": "fa589ee7",
   "metadata": {},
   "outputs": [
    {
     "data": {
      "text/plain": [
       "array([[ 1.94115624, -0.19945355, -0.23451177, -0.20068108],\n",
       "       [ 2.23738097, -0.26686259,  1.3680001 ,  0.28176458]])"
      ]
     },
     "execution_count": 32,
     "metadata": {},
     "output_type": "execute_result"
    }
   ],
   "source": [
    "b"
   ]
  },
  {
   "cell_type": "code",
   "execution_count": 33,
   "id": "6f7cca7f",
   "metadata": {},
   "outputs": [
    {
     "data": {
      "text/plain": [
       "array([[ 1.0044282 ,  0.61215684, -0.15724786,  0.37794317],\n",
       "       [ 1.4522995 , -1.07389846, -0.39078496, -1.54708677],\n",
       "       [ 1.94115624, -0.19945355, -0.23451177, -0.20068108],\n",
       "       [ 2.23738097, -0.26686259,  1.3680001 ,  0.28176458]])"
      ]
     },
     "execution_count": 33,
     "metadata": {},
     "output_type": "execute_result"
    }
   ],
   "source": [
    "np.vstack([a,b])"
   ]
  },
  {
   "cell_type": "code",
   "execution_count": 35,
   "id": "1002d8f8",
   "metadata": {},
   "outputs": [
    {
     "data": {
      "text/plain": [
       "array([[ 1.0044282 ,  1.4522995 ],\n",
       "       [ 0.61215684, -1.07389846],\n",
       "       [-0.15724786, -0.39078496],\n",
       "       [ 0.37794317, -1.54708677]])"
      ]
     },
     "execution_count": 35,
     "metadata": {},
     "output_type": "execute_result"
    }
   ],
   "source": [
    "a.transpose()"
   ]
  },
  {
   "cell_type": "code",
   "execution_count": 36,
   "id": "7f3defd3",
   "metadata": {},
   "outputs": [],
   "source": [
    "np.save('ex-a.npy',a)"
   ]
  },
  {
   "cell_type": "code",
   "execution_count": 37,
   "id": "062b364d",
   "metadata": {},
   "outputs": [],
   "source": [
    "a1 = np.load('ex-a.npy')"
   ]
  },
  {
   "cell_type": "code",
   "execution_count": 38,
   "id": "8f677d33",
   "metadata": {},
   "outputs": [
    {
     "data": {
      "text/plain": [
       "array([[ 1.0044282 ,  0.61215684, -0.15724786,  0.37794317],\n",
       "       [ 1.4522995 , -1.07389846, -0.39078496, -1.54708677]])"
      ]
     },
     "execution_count": 38,
     "metadata": {},
     "output_type": "execute_result"
    }
   ],
   "source": [
    "a1"
   ]
  },
  {
   "cell_type": "code",
   "execution_count": 45,
   "id": "05e945b2",
   "metadata": {},
   "outputs": [],
   "source": [
    "import matplotlib.pyplot as pp\n",
    "%matplotlib inline"
   ]
  },
  {
   "cell_type": "code",
   "execution_count": 46,
   "id": "84930e4a",
   "metadata": {},
   "outputs": [],
   "source": [
    "x = np.linspace(0,25,100)"
   ]
  },
  {
   "cell_type": "code",
   "execution_count": 47,
   "id": "0bf822e5",
   "metadata": {},
   "outputs": [
    {
     "data": {
      "text/plain": [
       "array([ 0.        ,  0.25252525,  0.50505051,  0.75757576,  1.01010101,\n",
       "        1.26262626,  1.51515152,  1.76767677,  2.02020202,  2.27272727,\n",
       "        2.52525253,  2.77777778,  3.03030303,  3.28282828,  3.53535354,\n",
       "        3.78787879,  4.04040404,  4.29292929,  4.54545455,  4.7979798 ,\n",
       "        5.05050505,  5.3030303 ,  5.55555556,  5.80808081,  6.06060606,\n",
       "        6.31313131,  6.56565657,  6.81818182,  7.07070707,  7.32323232,\n",
       "        7.57575758,  7.82828283,  8.08080808,  8.33333333,  8.58585859,\n",
       "        8.83838384,  9.09090909,  9.34343434,  9.5959596 ,  9.84848485,\n",
       "       10.1010101 , 10.35353535, 10.60606061, 10.85858586, 11.11111111,\n",
       "       11.36363636, 11.61616162, 11.86868687, 12.12121212, 12.37373737,\n",
       "       12.62626263, 12.87878788, 13.13131313, 13.38383838, 13.63636364,\n",
       "       13.88888889, 14.14141414, 14.39393939, 14.64646465, 14.8989899 ,\n",
       "       15.15151515, 15.4040404 , 15.65656566, 15.90909091, 16.16161616,\n",
       "       16.41414141, 16.66666667, 16.91919192, 17.17171717, 17.42424242,\n",
       "       17.67676768, 17.92929293, 18.18181818, 18.43434343, 18.68686869,\n",
       "       18.93939394, 19.19191919, 19.44444444, 19.6969697 , 19.94949495,\n",
       "       20.2020202 , 20.45454545, 20.70707071, 20.95959596, 21.21212121,\n",
       "       21.46464646, 21.71717172, 21.96969697, 22.22222222, 22.47474747,\n",
       "       22.72727273, 22.97979798, 23.23232323, 23.48484848, 23.73737374,\n",
       "       23.98989899, 24.24242424, 24.49494949, 24.74747475, 25.        ])"
      ]
     },
     "execution_count": 47,
     "metadata": {},
     "output_type": "execute_result"
    }
   ],
   "source": [
    "x"
   ]
  },
  {
   "cell_type": "code",
   "execution_count": 48,
   "id": "d0b57edc",
   "metadata": {},
   "outputs": [
    {
     "name": "stderr",
     "output_type": "stream",
     "text": [
      "<ipython-input-48-863662f30a47>:5: UserWarning: Legend does not support 'sin(x)' instances.\n",
      "A proxy artist may be used instead.\n",
      "See: https://matplotlib.org/users/legend_guide.html#creating-artists-specifically-for-adding-to-the-legend-aka-proxy-artists\n",
      "  pp.legend(['sin(x)'],['cos(x)'])\n"
     ]
    },
    {
     "data": {
      "text/plain": [
       "<matplotlib.legend.Legend at 0x281e0057370>"
      ]
     },
     "execution_count": 48,
     "metadata": {},
     "output_type": "execute_result"
    },
    {
     "data": {
      "image/png": "[encoded data removed]",
      "text/plain": [
       "<Figure size 432x288 with 1 Axes>"
      ]
     },
     "metadata": {
      "needs_background": "light"
     },
     "output_type": "display_data"
    }
   ],
   "source": [
    "sinx = np.sin(x)\n",
    "cosx = np.cos(x)\n",
    "pp.plot(x,sinx)\n",
    "pp.plot(x,cosx)\n",
    "pp.legend(['sin(x)'],['cos(x)'])"
   ]
  },
  {
   "cell_type": "code",
   "execution_count": 49,
   "id": "54fcdeeb",
   "metadata": {},
   "outputs": [
    {
     "data": {
      "text/plain": [
       "0.0"
      ]
     },
     "execution_count": 49,
     "metadata": {},
     "output_type": "execute_result"
    }
   ],
   "source": [
    "x[0]"
   ]
  },
  {
   "cell_type": "code",
   "execution_count": 50,
   "id": "57dff066",
   "metadata": {},
   "outputs": [
    {
     "data": {
      "text/plain": [
       "0.25252525252525254"
      ]
     },
     "execution_count": 50,
     "metadata": {},
     "output_type": "execute_result"
    }
   ],
   "source": [
    "x[1]"
   ]
  },
  {
   "cell_type": "code",
   "execution_count": 54,
   "id": "a7a59193",
   "metadata": {},
   "outputs": [],
   "source": [
    " xx =np.random.random((5,4))"
   ]
  },
  {
   "cell_type": "code",
   "execution_count": 55,
   "id": "2b709f38",
   "metadata": {},
   "outputs": [
    {
     "data": {
      "text/plain": [
       "array([[0.26718166, 0.92262663, 0.36545855, 0.47782054],\n",
       "       [0.03867959, 0.04211545, 0.7719129 , 0.54872642],\n",
       "       [0.57277073, 0.97409055, 0.20949445, 0.2305541 ],\n",
       "       [0.68430816, 0.66814368, 0.47581098, 0.14649679],\n",
       "       [0.18135861, 0.56768147, 0.13599116, 0.42151115]])"
      ]
     },
     "execution_count": 55,
     "metadata": {},
     "output_type": "execute_result"
    }
   ],
   "source": [
    "xx"
   ]
  },
  {
   "cell_type": "code",
   "execution_count": 56,
   "id": "e646deb1",
   "metadata": {},
   "outputs": [
    {
     "data": {
      "text/plain": [
       "0.2671816616242464"
      ]
     },
     "execution_count": 56,
     "metadata": {},
     "output_type": "execute_result"
    }
   ],
   "source": [
    "xx[0,0]"
   ]
  },
  {
   "cell_type": "code",
   "execution_count": 57,
   "id": "3d4b4431",
   "metadata": {},
   "outputs": [
    {
     "data": {
      "text/plain": [
       "0.47782054392677265"
      ]
     },
     "execution_count": 57,
     "metadata": {},
     "output_type": "execute_result"
    }
   ],
   "source": [
    "xx[0,3]"
   ]
  },
  {
   "cell_type": "code",
   "execution_count": 58,
   "id": "40e90667",
   "metadata": {},
   "outputs": [
    {
     "data": {
      "text/plain": [
       "0.5487264151234106"
      ]
     },
     "execution_count": 58,
     "metadata": {},
     "output_type": "execute_result"
    }
   ],
   "source": [
    "xx[1,3]"
   ]
  },
  {
   "cell_type": "code",
   "execution_count": 59,
   "id": "7ae73ef3",
   "metadata": {},
   "outputs": [
    {
     "data": {
      "text/plain": [
       "0.13599115848734422"
      ]
     },
     "execution_count": 59,
     "metadata": {},
     "output_type": "execute_result"
    }
   ],
   "source": [
    "xx[4,2]"
   ]
  },
  {
   "cell_type": "code",
   "execution_count": 61,
   "id": "ba174d7d",
   "metadata": {},
   "outputs": [
    {
     "data": {
      "text/plain": [
       "array([0.50505051, 0.75757576, 1.01010101, 1.26262626, 1.51515152,\n",
       "       1.76767677, 2.02020202])"
      ]
     },
     "execution_count": 61,
     "metadata": {},
     "output_type": "execute_result"
    }
   ],
   "source": [
    "x[2:9]"
   ]
  },
  {
   "cell_type": "code",
   "execution_count": 62,
   "id": "86b0767f",
   "metadata": {},
   "outputs": [
    {
     "data": {
      "text/plain": [
       "array([0.97409055, 0.66814368, 0.56768147])"
      ]
     },
     "execution_count": 62,
     "metadata": {},
     "output_type": "execute_result"
    }
   ],
   "source": [
    "xx[2:5,1]"
   ]
  },
  {
   "cell_type": "code",
   "execution_count": 64,
   "id": "00f26321",
   "metadata": {},
   "outputs": [
    {
     "data": {
      "text/plain": [
       "array([0.2305541 , 0.14649679, 0.42151115])"
      ]
     },
     "execution_count": 64,
     "metadata": {},
     "output_type": "execute_result"
    }
   ],
   "source": [
    "xx[2:5,3]"
   ]
  },
  {
   "cell_type": "code",
   "execution_count": 70,
   "id": "79d9707b",
   "metadata": {
    "scrolled": true
   },
   "outputs": [],
   "source": [
    "a = np.array([1,2,3,16],dtype = np.float64)\n",
    "b = np.array([4,5,6,17],dtype = np.float64)\n",
    "c = np.array([7,8,9,18],dtype = np.float64)\n",
    "d = np.array([10,11,12,19],dtype = np.float64)\n",
    "e = np.array([13,14,15,20],dtype = np.float64)"
   ]
  },
  {
   "cell_type": "code",
   "execution_count": 72,
   "id": "6e019381",
   "metadata": {},
   "outputs": [
    {
     "data": {
      "text/plain": [
       "array([ 1.,  2.,  3., 16.])"
      ]
     },
     "execution_count": 72,
     "metadata": {},
     "output_type": "execute_result"
    }
   ],
   "source": [
    "a"
   ]
  },
  {
   "cell_type": "code",
   "execution_count": 73,
   "id": "83c3205f",
   "metadata": {},
   "outputs": [
    {
     "data": {
      "text/plain": [
       "array([ 4.,  5.,  6., 17.])"
      ]
     },
     "execution_count": 73,
     "metadata": {},
     "output_type": "execute_result"
    }
   ],
   "source": [
    "b"
   ]
  },
  {
   "cell_type": "code",
   "execution_count": 74,
   "id": "6649842c",
   "metadata": {},
   "outputs": [
    {
     "data": {
      "text/plain": [
       "array([ 7.,  8.,  9., 18.])"
      ]
     },
     "execution_count": 74,
     "metadata": {},
     "output_type": "execute_result"
    }
   ],
   "source": [
    "c"
   ]
  },
  {
   "cell_type": "code",
   "execution_count": 75,
   "id": "62f86351",
   "metadata": {},
   "outputs": [
    {
     "data": {
      "text/plain": [
       "array([10., 11., 12., 19.])"
      ]
     },
     "execution_count": 75,
     "metadata": {},
     "output_type": "execute_result"
    }
   ],
   "source": [
    "d"
   ]
  },
  {
   "cell_type": "code",
   "execution_count": 76,
   "id": "c0fe97c7",
   "metadata": {},
   "outputs": [
    {
     "data": {
      "text/plain": [
       "array([13., 14., 15., 20.])"
      ]
     },
     "execution_count": 76,
     "metadata": {},
     "output_type": "execute_result"
    }
   ],
   "source": [
    "e"
   ]
  },
  {
   "cell_type": "code",
   "execution_count": 78,
   "id": "fb4e5397",
   "metadata": {},
   "outputs": [
    {
     "data": {
      "text/plain": [
       "array([[ 1.,  2.,  3., 16.],\n",
       "       [ 4.,  5.,  6., 17.],\n",
       "       [ 7.,  8.,  9., 18.],\n",
       "       [10., 11., 12., 19.],\n",
       "       [13., 14., 15., 20.]])"
      ]
     },
     "execution_count": 78,
     "metadata": {},
     "output_type": "execute_result"
    }
   ],
   "source": [
    "np.vstack([a,b,c,d,e])"
   ]
  },
  {
   "cell_type": "code",
   "execution_count": 84,
   "id": "5c779142",
   "metadata": {},
   "outputs": [
    {
     "data": {
      "text/plain": [
       "array([[1., 0., 0., 0., 0.],\n",
       "       [0., 1., 0., 0., 0.],\n",
       "       [0., 0., 1., 0., 0.],\n",
       "       [0., 0., 0., 1., 0.],\n",
       "       [0., 0., 0., 0., 1.]])"
      ]
     },
     "execution_count": 84,
     "metadata": {},
     "output_type": "execute_result"
    }
   ],
   "source": [
    "np.eye(5)"
   ]
  },
  {
   "cell_type": "code",
   "execution_count": 86,
   "id": "1d455913",
   "metadata": {},
   "outputs": [
    {
     "data": {
      "text/plain": [
       "array([[8, 8, 8, 8, 8],\n",
       "       [8, 8, 8, 8, 8],\n",
       "       [8, 8, 8, 8, 8],\n",
       "       [8, 8, 8, 8, 8],\n",
       "       [8, 8, 8, 8, 8]])"
      ]
     },
     "execution_count": 86,
     "metadata": {},
     "output_type": "execute_result"
    }
   ],
   "source": [
    "np.full((5,5),8)"
   ]
  },
  {
   "cell_type": "code",
   "execution_count": 88,
   "id": "f7ae4273",
   "metadata": {},
   "outputs": [],
   "source": [
    "y= np.random.random((5,5))"
   ]
  },
  {
   "cell_type": "code",
   "execution_count": 89,
   "id": "1ced2802",
   "metadata": {
    "scrolled": true
   },
   "outputs": [
    {
     "data": {
      "text/plain": [
       "array([[0.98856152, 0.46014527, 0.62025466, 0.9212697 , 0.80456744],\n",
       "       [0.76870792, 0.85521932, 0.30088961, 0.15665952, 0.96145689],\n",
       "       [0.74605969, 0.60221625, 0.96465231, 0.78817322, 0.83982783],\n",
       "       [0.97746874, 0.19219614, 0.15355325, 0.46250256, 0.54803596],\n",
       "       [0.73167717, 0.77225617, 0.16348472, 0.91466211, 0.10193288]])"
      ]
     },
     "execution_count": 89,
     "metadata": {},
     "output_type": "execute_result"
    }
   ],
   "source": [
    "y"
   ]
  },
  {
   "cell_type": "code",
   "execution_count": 90,
   "id": "4acb739a",
   "metadata": {},
   "outputs": [
    {
     "data": {
      "text/plain": [
       "array([0.46250256, 0.91466211])"
      ]
     },
     "execution_count": 90,
     "metadata": {},
     "output_type": "execute_result"
    }
   ],
   "source": [
    "y[3:5,3]"
   ]
  },
  {
   "cell_type": "code",
   "execution_count": 2,
   "id": "90c5ff72",
   "metadata": {},
   "outputs": [],
   "source": [
    "import numpy as np\n",
    "import matplotlib.pyplot as pp\n",
    "import seaborn\n",
    "import pandas as pd"
   ]
  },
  {
   "cell_type": "code",
   "execution_count": 3,
   "id": "fa7302de",
   "metadata": {},
   "outputs": [
    {
     "ename": "UnicodeDecodeError",
     "evalue": "'charmap' codec can't decode byte 0x8d in position 150: character maps to <undefined>",
     "output_type": "error",
     "traceback": [
      "\u001b[1;31m---------------------------------------------------------------------------\u001b[0m",
      "\u001b[1;31mUnicodeDecodeError\u001b[0m                        Traceback (most recent call last)",
      "\u001b[1;32m<ipython-input-3-2218c24891b3>\u001b[0m in \u001b[0;36m<module>\u001b[1;34m\u001b[0m\n\u001b[1;32m----> 1\u001b[1;33m \u001b[0mopen\u001b[0m\u001b[1;33m(\u001b[0m\u001b[1;34m'2004-2019.csv'\u001b[0m\u001b[1;33m,\u001b[0m\u001b[1;34m'r'\u001b[0m\u001b[1;33m)\u001b[0m\u001b[1;33m.\u001b[0m\u001b[0mreadlines\u001b[0m\u001b[1;33m(\u001b[0m\u001b[1;33m)\u001b[0m\u001b[1;33m[\u001b[0m\u001b[1;33m:\u001b[0m\u001b[1;36m10\u001b[0m\u001b[1;33m]\u001b[0m\u001b[1;33m\u001b[0m\u001b[1;33m\u001b[0m\u001b[0m\n\u001b[0m",
      "\u001b[1;32m~\\anaconda3\\lib\\encodings\\cp1252.py\u001b[0m in \u001b[0;36mdecode\u001b[1;34m(self, input, final)\u001b[0m\n\u001b[0;32m     21\u001b[0m \u001b[1;32mclass\u001b[0m \u001b[0mIncrementalDecoder\u001b[0m\u001b[1;33m(\u001b[0m\u001b[0mcodecs\u001b[0m\u001b[1;33m.\u001b[0m\u001b[0mIncrementalDecoder\u001b[0m\u001b[1;33m)\u001b[0m\u001b[1;33m:\u001b[0m\u001b[1;33m\u001b[0m\u001b[1;33m\u001b[0m\u001b[0m\n\u001b[0;32m     22\u001b[0m     \u001b[1;32mdef\u001b[0m \u001b[0mdecode\u001b[0m\u001b[1;33m(\u001b[0m\u001b[0mself\u001b[0m\u001b[1;33m,\u001b[0m \u001b[0minput\u001b[0m\u001b[1;33m,\u001b[0m \u001b[0mfinal\u001b[0m\u001b[1;33m=\u001b[0m\u001b[1;32mFalse\u001b[0m\u001b[1;33m)\u001b[0m\u001b[1;33m:\u001b[0m\u001b[1;33m\u001b[0m\u001b[1;33m\u001b[0m\u001b[0m\n\u001b[1;32m---> 23\u001b[1;33m         \u001b[1;32mreturn\u001b[0m \u001b[0mcodecs\u001b[0m\u001b[1;33m.\u001b[0m\u001b[0mcharmap_decode\u001b[0m\u001b[1;33m(\u001b[0m\u001b[0minput\u001b[0m\u001b[1;33m,\u001b[0m\u001b[0mself\u001b[0m\u001b[1;33m.\u001b[0m\u001b[0merrors\u001b[0m\u001b[1;33m,\u001b[0m\u001b[0mdecoding_table\u001b[0m\u001b[1;33m)\u001b[0m\u001b[1;33m[\u001b[0m\u001b[1;36m0\u001b[0m\u001b[1;33m]\u001b[0m\u001b[1;33m\u001b[0m\u001b[1;33m\u001b[0m\u001b[0m\n\u001b[0m\u001b[0;32m     24\u001b[0m \u001b[1;33m\u001b[0m\u001b[0m\n\u001b[0;32m     25\u001b[0m \u001b[1;32mclass\u001b[0m \u001b[0mStreamWriter\u001b[0m\u001b[1;33m(\u001b[0m\u001b[0mCodec\u001b[0m\u001b[1;33m,\u001b[0m\u001b[0mcodecs\u001b[0m\u001b[1;33m.\u001b[0m\u001b[0mStreamWriter\u001b[0m\u001b[1;33m)\u001b[0m\u001b[1;33m:\u001b[0m\u001b[1;33m\u001b[0m\u001b[1;33m\u001b[0m\u001b[0m\n",
      "\u001b[1;31mUnicodeDecodeError\u001b[0m: 'charmap' codec can't decode byte 0x8d in position 150: character maps to <undefined>"
     ]
    }
   ],
   "source": [
    "open('2004-2019.csv','r').readlines()[:10]"
   ]
  },
  {
   "cell_type": "code",
   "execution_count": 4,
   "id": "fcf2eac3",
   "metadata": {},
   "outputs": [
    {
     "name": "stdout",
     "output_type": "stream",
     "text": [
      "{'encoding': 'utf-8', 'confidence': 0.99, 'language': ''}\n"
     ]
    }
   ],
   "source": [
    "import chardet\n",
    "with open('2004-2019.csv','rb') as rawdata:\n",
    "    result = chardet.detect(rawdata.read(100000))\n",
    "print(result)"
   ]
  },
  {
   "cell_type": "code",
   "execution_count": 5,
   "id": "8e5767db",
   "metadata": {},
   "outputs": [],
   "source": [
    "data =pd.read_csv('2004-2019.csv',sep=\"t\")"
   ]
  },
  {
   "cell_type": "code",
   "execution_count": 6,
   "id": "9beea795",
   "metadata": {},
   "outputs": [
    {
     "name": "stdout",
     "output_type": "stream",
     "text": [
      "       ,DATA INICIAL,DATA FINAL,REGIÃO,ESTADO,PRODUTO,NÚMERO DE POSTOS PESQUISADOS,UNIDADE DE MEDIDA,PREÇO MÉDIO REVENDA,DESVIO PADRÃO REVENDA,PREÇO MÍNIMO REVENDA,PREÇO MÁXIMO REVENDA,MARGEM MÉDIA REVENDA,COEF DE VARIAÇÃO REVENDA,PREÇO MÉDIO DISTRIBUIÇÃO,DESVIO PADRÃO DISTRIBUIÇÃO,PREÇO MÍNIMO DISTRIBUIÇÃO,PREÇO MÁXIMO DISTRIBUIÇÃO,COEF DE VARIAÇÃO DISTRIBUIÇÃO,MÊS,ANO\n",
      "0       0,2004-05-09,2004-05-15,CENTRO OESTE,DISTRITO ...                                                                                                                                                                                                                                                                                                                           \n",
      "1       1,2004-05-09,2004-05-15,CENTRO OESTE,GOIAS,ETA...                                                                                                                                                                                                                                                                                                                           \n",
      "2       2,2004-05-09,2004-05-15,CENTRO OESTE,MATO GROS...                                                                                                                                                                                                                                                                                                                           \n",
      "3       3,2004-05-09,2004-05-15,CENTRO OESTE,MATO GROS...                                                                                                                                                                                                                                                                                                                           \n",
      "4       4,2004-05-09,2004-05-15,NORDESTE,ALAGOAS,ETANO...                                                                                                                                                                                                                                                                                                                           \n",
      "...                                                   ...                                                                                                                                                                                                                                                                                                                           \n",
      "106818  106818,2019-06-23,2019-06-29,NORDESTE,RIO GRAN...                                                                                                                                                                                                                                                                                                                           \n",
      "106819  106819,2019-06-23,2019-06-29,SUL,RIO GRANDE DO...                                                                                                                                                                                                                                                                                                                           \n",
      "106820  106820,2019-06-23,2019-06-29,SUL,SANTA CATARIN...                                                                                                                                                                                                                                                                                                                           \n",
      "106821  106821,2019-06-23,2019-06-29,SUDESTE,SAO PAULO...                                                                                                                                                                                                                                                                                                                           \n",
      "106822  106822,2019-06-23,2019-06-29,NORDESTE,SERGIPE,...                                                                                                                                                                                                                                                                                                                           \n",
      "\n",
      "[106823 rows x 1 columns]\n"
     ]
    }
   ],
   "source": [
    "print(data)"
   ]
  },
  {
   "cell_type": "code",
   "execution_count": null,
   "id": "6df19411",
   "metadata": {},
   "outputs": [],
   "source": []
  }
 ],
 "metadata": {
  "kernelspec": {
   "display_name": "Python 3",
   "language": "python",
   "name": "python3"
  },
  "language_info": {
   "codemirror_mode": {
    "name": "ipython",
    "version": 3
   },
   "file_extension": ".py",
   "mimetype": "text/x-python",
   "name": "python",
   "nbconvert_exporter": "python",
   "pygments_lexer": "ipython3",
   "version": "3.8.8"
  }
 },
 "nbformat": 4,
 "nbformat_minor": 5
}
